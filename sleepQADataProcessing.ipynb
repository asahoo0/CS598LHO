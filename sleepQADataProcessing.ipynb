{
  "nbformat": 4,
  "nbformat_minor": 0,
  "metadata": {
    "colab": {
      "provenance": []
    },
    "kernelspec": {
      "name": "python3",
      "display_name": "Python 3"
    },
    "language_info": {
      "name": "python"
    }
  },
  "cells": [
    {
      "cell_type": "code",
      "source": [
        "fake_article = \"\"\"\n",
        "WHY SLEEP MATTERS 💡\n",
        "\n",
        "Sleep is not just rest^1—it's a critical biological function. (1) Every night, your brain and body engage in vital repair processes. Short subtitle: SLEEP STAGES.\n",
        "\n",
        "There are four main stages of sleep: N1, N2, N3, and REM. Each stage plays a unique role in cognitive function and memory consolidation. [2] “Missing out on deep sleep can affect how your brain stores memories,” says Dr. Luna Moon, a neurologist at BrainHealth Org. 🧠\n",
        "\n",
        "Quick facts:\n",
        "- 35% of adults report poor sleep\n",
        "- REM sleep is when dreams occur\n",
        "- Sleep deprivation impairs judgment\n",
        "\n",
        "Interview with Dr. Luna Moon:\n",
        "Q: What’s the #1 mistake people make about sleep?\n",
        "A: They treat it like a luxury. It’s a necessity—like food or water.\n",
        "\n",
        "🌟 ADVERTISEMENT: Try DreamEase pillows—engineered with NASA technology! Use code SLEEP2024 for 20% off.\n",
        "\n",
        "Studies also show a strong connection between sleep quality and emotional regulation. Poor sleep increases risks of depression and anxiety. Researchers from the Sleep Science Institute^2 note that even a single night of bad sleep can elevate cortisol levels, impacting your mood for days. “Sleep is your emotional reset button,” Dr. Moon adds.\n",
        "\n",
        "References:\n",
        "1. Smith, J. (2020). Sleep and Brain Health. Sleep Journal.\n",
        "2. Sleep Science Institute Annual Report, 2021.\n",
        "\n",
        "About the Author:\n",
        "Chris Napper is a freelance health writer with over 15 years of experience writing about wellness, nutrition, and sleep science.\n",
        "\n",
        "(END)\n",
        "\"\"\"\n"
      ],
      "metadata": {
        "id": "qLvnwVrxe7Ly"
      },
      "execution_count": 1,
      "outputs": []
    },
    {
      "cell_type": "code",
      "source": [
        "import pandas as pd\n",
        "df = pd.DataFrame({'text': [fake_article]})\n"
      ],
      "metadata": {
        "id": "vrPoFBF2e81w"
      },
      "execution_count": 2,
      "outputs": []
    },
    {
      "cell_type": "code",
      "source": [
        "import nltk\n",
        "\n",
        "nltk.download('punkt_tab')"
      ],
      "metadata": {
        "colab": {
          "base_uri": "https://localhost:8080/"
        },
        "id": "96HZPe7Ug2mT",
        "outputId": "64490206-74b2-4ca3-d045-d6f298692027"
      },
      "execution_count": 3,
      "outputs": [
        {
          "output_type": "stream",
          "name": "stderr",
          "text": [
            "[nltk_data] Downloading package punkt_tab to /root/nltk_data...\n",
            "[nltk_data]   Unzipping tokenizers/punkt_tab.zip.\n"
          ]
        },
        {
          "output_type": "execute_result",
          "data": {
            "text/plain": [
              "True"
            ]
          },
          "metadata": {},
          "execution_count": 3
        }
      ]
    },
    {
      "cell_type": "code",
      "source": [
        "import pandas as pd\n",
        "import re\n",
        "from nltk.tokenize import sent_tokenize, word_tokenize\n",
        "\n",
        "# Sample placeholder: Replace with actual load step\n",
        "# df = pd.read_csv('raw_articles.csv')  # Should contain a 'text' column\n",
        "\n",
        "def is_relevant(text):\n",
        "    # Basic filter for irrelevant articles (customize as needed)\n",
        "    text_lower = text.lower()\n",
        "    return any(keyword in text_lower for keyword in [\"sleep\", \"night\", \"dream\"])\n",
        "\n",
        "def clean_text(text):\n",
        "    # Remove footnotes and superscripts (e.g., [1], (1), etc.)\n",
        "    text = re.sub(r\"\\[\\d+\\]\", \"\", text)\n",
        "    text = re.sub(r\"\\(\\d+\\)\", \"\", text)\n",
        "\n",
        "    # Remove author bios and references sections\n",
        "    text = re.split(r\"(?i)(references|about the author|bibliography)\", text)[0]\n",
        "\n",
        "    # Remove extra symbols and unnecessary punctuation\n",
        "    text = re.sub(r\"[^a-zA-Z0-9\\s.,!?'-]\", \" \", text)  # Keep only basic punctuation\n",
        "    text = re.sub(r\"\\s+\", \" \", text).strip()\n",
        "\n",
        "    return text\n",
        "\n",
        "def filter_sentences(sentences):\n",
        "    # Remove duplicates and very short sentences (<5 words)\n",
        "    seen = set()\n",
        "    filtered = []\n",
        "    for s in sentences:\n",
        "        if len(word_tokenize(s)) >= 5:\n",
        "            s_clean = s.strip()\n",
        "            if s_clean not in seen:\n",
        "                seen.add(s_clean)\n",
        "                filtered.append(s_clean)\n",
        "    return filtered\n",
        "\n",
        "def chunk_into_passages(sentences, min_words=100, max_words=150):\n",
        "    passages = []\n",
        "    current = []\n",
        "    count = 0\n",
        "    for sent in sentences:\n",
        "        words = word_tokenize(sent)\n",
        "        current += words\n",
        "        count += len(words)\n",
        "        if count >= min_words:\n",
        "            if count <= max_words or len(current) > max_words:\n",
        "                passages.append(\" \".join(current))\n",
        "                current = []\n",
        "                count = 0\n",
        "    if current:\n",
        "        passages.append(\" \".join(current))  # Add remaining words\n",
        "    return passages\n",
        "\n",
        "!pip install rake-nltk\n",
        "import pandas as pd\n",
        "import re\n",
        "from nltk.tokenize import sent_tokenize, word_tokenize\n",
        "from rake_nltk import Rake # Import the Rake class from rake_nltk\n",
        "nltk.download('stopwords')\n",
        "rake = Rake()\n",
        "\n",
        "def generate_title_with_keywords(text):\n",
        "    rake.extract_keywords_from_text(text)\n",
        "    keywords = rake.get_ranked_phrases()\n",
        "    return keywords[0].title() if keywords else \"Untitled\"\n",
        "\n",
        "\n",
        "\n",
        "\n",
        "all_passages = []\n",
        "\n",
        "for idx, row in df.iterrows():\n",
        "    text = row[\"text\"]\n",
        "\n",
        "    if not is_relevant(text):\n",
        "      print(1)\n",
        "      continue  # Skip irrelevant articles\n",
        "\n",
        "    cleaned = clean_text(text)\n",
        "    sentences = sent_tokenize(cleaned)\n",
        "    filtered_sentences = filter_sentences(sentences)\n",
        "    passages = chunk_into_passages(filtered_sentences)\n",
        "\n",
        "    all_passages.extend(passages)\n",
        "print(\"Total passages:\", len(all_passages))\n",
        "# Convert to DataFrame\n",
        "corpus_df = pd.DataFrame({\"passage\": all_passages})\n",
        "corpus_df[\"index\"] = corpus_df.index\n",
        "corpus_df[\"title\"] = corpus_df[\"passage\"].apply(generate_title_with_keywords)\n",
        "corpus_df = corpus_df[[\"index\", \"passage\", \"title\"]]\n",
        "\n",
        "print(\"Total clean passages:\", len(corpus_df))\n",
        "print(corpus_df.head())\n"
      ],
      "metadata": {
        "colab": {
          "base_uri": "https://localhost:8080/"
        },
        "id": "Mcv4sTV_fE_Y",
        "outputId": "9eafe539-81c8-4318-b4bd-0e1b1f407164"
      },
      "execution_count": 4,
      "outputs": [
        {
          "output_type": "stream",
          "name": "stdout",
          "text": [
            "Collecting rake-nltk\n",
            "  Downloading rake_nltk-1.0.6-py3-none-any.whl.metadata (6.4 kB)\n",
            "Requirement already satisfied: nltk<4.0.0,>=3.6.2 in /usr/local/lib/python3.11/dist-packages (from rake-nltk) (3.9.1)\n",
            "Requirement already satisfied: click in /usr/local/lib/python3.11/dist-packages (from nltk<4.0.0,>=3.6.2->rake-nltk) (8.1.8)\n",
            "Requirement already satisfied: joblib in /usr/local/lib/python3.11/dist-packages (from nltk<4.0.0,>=3.6.2->rake-nltk) (1.4.2)\n",
            "Requirement already satisfied: regex>=2021.8.3 in /usr/local/lib/python3.11/dist-packages (from nltk<4.0.0,>=3.6.2->rake-nltk) (2024.11.6)\n",
            "Requirement already satisfied: tqdm in /usr/local/lib/python3.11/dist-packages (from nltk<4.0.0,>=3.6.2->rake-nltk) (4.67.1)\n",
            "Downloading rake_nltk-1.0.6-py3-none-any.whl (9.1 kB)\n",
            "Installing collected packages: rake-nltk\n",
            "Successfully installed rake-nltk-1.0.6\n",
            "Total passages: 2\n",
            "Total clean passages: 2\n",
            "   index                                            passage  \\\n",
            "0      0  WHY SLEEP MATTERS Sleep is not just rest 1 it ...   \n",
            "1      1  A They treat it like a luxury . It s a necessi...   \n",
            "\n",
            "                                            title  \n",
            "0    Sleep Deprivation Impairs Judgment Interview  \n",
            "1  Advertisement Try Dreamease Pillows Engineered  \n"
          ]
        },
        {
          "output_type": "stream",
          "name": "stderr",
          "text": [
            "[nltk_data] Downloading package stopwords to /root/nltk_data...\n",
            "[nltk_data]   Unzipping corpora/stopwords.zip.\n"
          ]
        }
      ]
    }
  ]
}